{
 "cells": [
  {
   "cell_type": "code",
   "execution_count": 1,
   "metadata": {},
   "outputs": [
    {
     "name": "stdout",
     "output_type": "stream",
     "text": [
      "Requirement already satisfied: librosa in /Users/malgosielska/Studies/Sem 1 TAI/ML/.venv/lib/python3.9/site-packages (0.11.0)\n",
      "Requirement already satisfied: audioread>=2.1.9 in /Users/malgosielska/Studies/Sem 1 TAI/ML/.venv/lib/python3.9/site-packages (from librosa) (3.0.1)\n",
      "Requirement already satisfied: numba>=0.51.0 in /Users/malgosielska/Studies/Sem 1 TAI/ML/.venv/lib/python3.9/site-packages (from librosa) (0.60.0)\n",
      "Requirement already satisfied: numpy>=1.22.3 in /Users/malgosielska/Studies/Sem 1 TAI/ML/.venv/lib/python3.9/site-packages (from librosa) (2.0.2)\n",
      "Requirement already satisfied: scipy>=1.6.0 in /Users/malgosielska/Studies/Sem 1 TAI/ML/.venv/lib/python3.9/site-packages (from librosa) (1.13.1)\n",
      "Requirement already satisfied: scikit-learn>=1.1.0 in /Users/malgosielska/Studies/Sem 1 TAI/ML/.venv/lib/python3.9/site-packages (from librosa) (1.6.1)\n",
      "Requirement already satisfied: joblib>=1.0 in /Users/malgosielska/Studies/Sem 1 TAI/ML/.venv/lib/python3.9/site-packages (from librosa) (1.5.0)\n",
      "Requirement already satisfied: decorator>=4.3.0 in /Users/malgosielska/Studies/Sem 1 TAI/ML/.venv/lib/python3.9/site-packages (from librosa) (5.2.1)\n",
      "Requirement already satisfied: soundfile>=0.12.1 in /Users/malgosielska/Studies/Sem 1 TAI/ML/.venv/lib/python3.9/site-packages (from librosa) (0.13.1)\n",
      "Requirement already satisfied: pooch>=1.1 in /Users/malgosielska/Studies/Sem 1 TAI/ML/.venv/lib/python3.9/site-packages (from librosa) (1.8.2)\n",
      "Requirement already satisfied: soxr>=0.3.2 in /Users/malgosielska/Studies/Sem 1 TAI/ML/.venv/lib/python3.9/site-packages (from librosa) (0.5.0.post1)\n",
      "Requirement already satisfied: typing_extensions>=4.1.1 in /Users/malgosielska/Studies/Sem 1 TAI/ML/.venv/lib/python3.9/site-packages (from librosa) (4.13.2)\n",
      "Requirement already satisfied: lazy_loader>=0.1 in /Users/malgosielska/Studies/Sem 1 TAI/ML/.venv/lib/python3.9/site-packages (from librosa) (0.4)\n",
      "Requirement already satisfied: msgpack>=1.0 in /Users/malgosielska/Studies/Sem 1 TAI/ML/.venv/lib/python3.9/site-packages (from librosa) (1.1.0)\n",
      "Requirement already satisfied: packaging in /Users/malgosielska/Studies/Sem 1 TAI/ML/.venv/lib/python3.9/site-packages (from lazy_loader>=0.1->librosa) (25.0)\n",
      "Requirement already satisfied: llvmlite<0.44,>=0.43.0dev0 in /Users/malgosielska/Studies/Sem 1 TAI/ML/.venv/lib/python3.9/site-packages (from numba>=0.51.0->librosa) (0.43.0)\n",
      "Requirement already satisfied: platformdirs>=2.5.0 in /Users/malgosielska/Studies/Sem 1 TAI/ML/.venv/lib/python3.9/site-packages (from pooch>=1.1->librosa) (4.3.8)\n",
      "Requirement already satisfied: requests>=2.19.0 in /Users/malgosielska/Studies/Sem 1 TAI/ML/.venv/lib/python3.9/site-packages (from pooch>=1.1->librosa) (2.32.3)\n",
      "Requirement already satisfied: threadpoolctl>=3.1.0 in /Users/malgosielska/Studies/Sem 1 TAI/ML/.venv/lib/python3.9/site-packages (from scikit-learn>=1.1.0->librosa) (3.6.0)\n",
      "Requirement already satisfied: cffi>=1.0 in /Users/malgosielska/Studies/Sem 1 TAI/ML/.venv/lib/python3.9/site-packages (from soundfile>=0.12.1->librosa) (1.17.1)\n",
      "Requirement already satisfied: pycparser in /Users/malgosielska/Studies/Sem 1 TAI/ML/.venv/lib/python3.9/site-packages (from cffi>=1.0->soundfile>=0.12.1->librosa) (2.22)\n",
      "Requirement already satisfied: charset-normalizer<4,>=2 in /Users/malgosielska/Studies/Sem 1 TAI/ML/.venv/lib/python3.9/site-packages (from requests>=2.19.0->pooch>=1.1->librosa) (3.4.2)\n",
      "Requirement already satisfied: idna<4,>=2.5 in /Users/malgosielska/Studies/Sem 1 TAI/ML/.venv/lib/python3.9/site-packages (from requests>=2.19.0->pooch>=1.1->librosa) (3.10)\n",
      "Requirement already satisfied: urllib3<3,>=1.21.1 in /Users/malgosielska/Studies/Sem 1 TAI/ML/.venv/lib/python3.9/site-packages (from requests>=2.19.0->pooch>=1.1->librosa) (2.4.0)\n",
      "Requirement already satisfied: certifi>=2017.4.17 in /Users/malgosielska/Studies/Sem 1 TAI/ML/.venv/lib/python3.9/site-packages (from requests>=2.19.0->pooch>=1.1->librosa) (2025.4.26)\n",
      "\n",
      "\u001b[1m[\u001b[0m\u001b[34;49mnotice\u001b[0m\u001b[1;39;49m]\u001b[0m\u001b[39;49m A new release of pip is available: \u001b[0m\u001b[31;49m24.3.1\u001b[0m\u001b[39;49m -> \u001b[0m\u001b[32;49m25.1.1\u001b[0m\n",
      "\u001b[1m[\u001b[0m\u001b[34;49mnotice\u001b[0m\u001b[1;39;49m]\u001b[0m\u001b[39;49m To update, run: \u001b[0m\u001b[32;49mpip install --upgrade pip\u001b[0m\n",
      "Note: you may need to restart the kernel to use updated packages.\n"
     ]
    }
   ],
   "source": [
    "%pip install librosa"
   ]
  },
  {
   "cell_type": "code",
   "execution_count": 4,
   "metadata": {},
   "outputs": [],
   "source": [
    "output_folder = \"/Users/malgosielska/Studies/Sem 1 TAI/ML/Multimodal-classification/spectograms\"\n",
    "input_folder = \"/Users/malgosielska/Studies/Sem 1 TAI/ML/Multimodal-classification/dataset - original/Audio\""
   ]
  },
  {
   "cell_type": "code",
   "execution_count": 2,
   "metadata": {},
   "outputs": [],
   "source": [
    "import librosa\n",
    "import numpy as np\n",
    "\n",
    "def generate_mel_spectogram(audio_path):\n",
    "    y, sr = librosa.load(audio_path)\n",
    "    y, _ = librosa.effects.trim(y)\n",
    "\n",
    "    S = librosa.feature.melspectrogram(y=y, sr=sr, n_mels=512)\n",
    "    S_db = librosa.power_to_db(S, ref=np.max)\n",
    "    return S_db\n",
    "\n",
    "def generate_stft_spectogram(audio_path):\n",
    "    y, sr = librosa.load(audio_path)\n",
    "    y, _ = librosa.effects.trim(y)\n",
    "\n",
    "    S = np.abs(librosa.stft(y))\n",
    "    S_db = librosa.amplitude_to_db(S, ref=np.max)\n",
    "    return S_db\n",
    "\n",
    "\n",
    "def generate_mfcc(audio_path):\n",
    "    y, sr = librosa.load(audio_path)\n",
    "    y, _ = librosa.effects.trim(y)\n",
    "\n",
    "    mfcc = librosa.feature.mfcc(y=y, sr=sr, n_mfcc= 10)\n",
    "    return mfcc"
   ]
  },
  {
   "cell_type": "code",
   "execution_count": 3,
   "metadata": {},
   "outputs": [],
   "source": [
    "import matplotlib.pyplot as plt\n",
    "\n",
    "def save_spectogram(data, output_path, title):\n",
    "    plt.figure(figsize=(3, 3))\n",
    "    plt.axis('off')\n",
    "    librosa.display.specshow(data)\n",
    "    plt.savefig(output_path, bbox_inches='tight', pad_inches=0)\n",
    "    plt.close()"
   ]
  },
  {
   "cell_type": "code",
   "execution_count": 5,
   "metadata": {},
   "outputs": [
    {
     "name": "stderr",
     "output_type": "stream",
     "text": [
      "Przetwarzanie plików MP3: 100%|██████████| 903/903 [03:13<00:00,  4.67it/s]\n"
     ]
    }
   ],
   "source": [
    "import os\n",
    "from tqdm import tqdm\n",
    "\n",
    "subfolders = {\n",
    "        \"mel\": os.path.join(output_folder, \"mel\"),\n",
    "        \"mel_graphic\": os.path.join(output_folder, \"mel_graphic\"),\n",
    "    }\n",
    "\n",
    "for folder in subfolders.values():\n",
    "    os.makedirs(folder, exist_ok=True)\n",
    "\n",
    "mp3_files = [f for f in os.listdir(input_folder) if f.lower().endswith(\".mp3\")]\n",
    "\n",
    "for filename in tqdm(mp3_files, desc=\"Przetwarzanie plików MP3\"):    \n",
    "    audio_path = os.path.join(input_folder, filename)\n",
    "    base_name = os.path.splitext(filename)[0]\n",
    "\n",
    "    # Mel Spectrogram\n",
    "    mel = generate_mel_spectogram(audio_path)\n",
    "    save_spectogram(\n",
    "        mel,\n",
    "        os.path.join(subfolders[\"mel_graphic\"], f\"{base_name}_mel.png\"),\n",
    "        \"Mel Spectrogram\"\n",
    "    )\n",
    "    np.save(os.path.join(subfolders[\"mel\"], f\"{base_name}_mel.npy\"), mel)\n",
    "\n",
    "\n",
    "    # # STFT Spectrogram\n",
    "    # stft = generate_stft_spectogram(audio_path)\n",
    "    # save_spectogram(\n",
    "    #     stft,\n",
    "    #     os.path.join(subfolders[\"stft\"], f\"{base_name}_stft.png\"),\n",
    "    #     \"STFT Spectrogram\"\n",
    "    # )\n",
    "\n",
    "    # # MFCC\n",
    "    # mfcc = generate_mfcc(audio_path)\n",
    "    # save_spectogram(\n",
    "    #     mfcc,\n",
    "    #     os.path.join(subfolders[\"mfcc\"], f\"{base_name}_mfcc.png\"),\n",
    "    #     \"MFCC\"\n",
    "    # )\n"
   ]
  }
 ],
 "metadata": {
  "kernelspec": {
   "display_name": ".venv",
   "language": "python",
   "name": "python3"
  },
  "language_info": {
   "codemirror_mode": {
    "name": "ipython",
    "version": 3
   },
   "file_extension": ".py",
   "mimetype": "text/x-python",
   "name": "python",
   "nbconvert_exporter": "python",
   "pygments_lexer": "ipython3",
   "version": "3.9.21"
  }
 },
 "nbformat": 4,
 "nbformat_minor": 2
}
