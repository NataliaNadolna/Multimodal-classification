{
 "cells": [
  {
   "cell_type": "code",
   "execution_count": null,
   "metadata": {},
   "outputs": [],
   "source": [
    "import os\n",
    "\n",
    "import numpy as np\n",
    "import pandas as pd\n",
    "import matplotlib.pyplot as plt\n",
    "\n",
    "import torch\n",
    "from torch.nn import CrossEntropyLoss\n",
    "from torch.utils.data import Dataset\n",
    "\n",
    "from sklearn.model_selection import train_test_split\n",
    "from sklearn.metrics import (\n",
    "    accuracy_score,\n",
    "    classification_report,\n",
    "    confusion_matrix,\n",
    "    ConfusionMatrixDisplay,\n",
    "    f1_score,\n",
    ")\n",
    "from sklearn.utils.class_weight import compute_class_weight\n",
    "from sklearn.calibration import LabelEncoder\n",
    "\n",
    "from transformers import (\n",
    "    RobertaTokenizer,\n",
    "    RobertaForSequenceClassification,\n",
    "    Trainer,\n",
    "    TrainingArguments,\n",
    "    EarlyStoppingCallback,\n",
    ")"
   ]
  },
  {
   "cell_type": "code",
   "execution_count": 20,
   "metadata": {},
   "outputs": [],
   "source": [
    "lyrics_folder = \"/Users/malgosielska/Studies/Sem 1 TAI/ML/Multimodal-classification/dataset - original/Lyrics\"\n",
    "labels_file = \"/Users/malgosielska/Studies/Sem 1 TAI/ML/Multimodal-classification/klasy_mapped.txt\""
   ]
  },
  {
   "cell_type": "code",
   "execution_count": 21,
   "metadata": {},
   "outputs": [
    {
     "name": "stdout",
     "output_type": "stream",
     "text": [
      "903\n"
     ]
    },
    {
     "data": {
      "text/plain": [
       "['negative',\n",
       " 'negative',\n",
       " 'negative',\n",
       " 'negative',\n",
       " 'negative',\n",
       " 'negative',\n",
       " 'negative',\n",
       " 'negative',\n",
       " 'negative',\n",
       " 'negative']"
      ]
     },
     "execution_count": 21,
     "metadata": {},
     "output_type": "execute_result"
    }
   ],
   "source": [
    "all_labels = []\n",
    "with open(labels_file, \"r\", encoding=\"utf-8\") as f:\n",
    "    all_labels = f.readlines()\n",
    "\n",
    "all_labels = [label.strip() for label in all_labels]\n",
    "print(len(all_labels))\n",
    "all_labels[:10]"
   ]
  },
  {
   "cell_type": "code",
   "execution_count": 22,
   "metadata": {},
   "outputs": [
    {
     "name": "stdout",
     "output_type": "stream",
     "text": [
      "Loaded 764 lyrics and 764 labels.\n"
     ]
    },
    {
     "data": {
      "text/plain": [
       "([\"Mama he treats your daughter mean \\nMama he treats your daughter mean \\nMama he treats your daughter mean \\nHe's the meanest man I've ever seen \\n\\nMama he treats me badly \\nMakes me love him madly \\nMama he takes my money \\nMakes me call him honey \\n\\nMama he can't be trusted \\nHe makes me so disgusted \\nAll of my friends they don't understand \\nWhat's the matter with this man \\n\\nI tell you mama he treats your daughter mean \\nMama he treats your daughter mean \\nMama he treats your daughter mean \\nHe's the meanest man I've ever seen \\n\\nMama this man is lazy \\nAlmost drives me crazy \\nMama he makes me squeeze him \\nStill my squeezes don't please him \\n\\nMama my heart is aching \\nI believe it's breaking \\nI've stood all that I can stand \\nWhat's the matter with this man? \\n\\nI tell you Mama he treats your daughter mean \\nMama he treats your daughter mean \\nMama he treats your daughter mean \\nHe's the meanest man I've ever seen\",\n",
       "  'I plopped down in my easy chair and turned on Channel 2\\nA bad gunslinger called Salty Sam was chasin\\' poor Sweet Sue\\nHe trapped her in the old sawmill and said with an evil laugh,\\n\"If you don\\'t give me the deed to your ranch\\nI\\'ll saw you all in half!\"\\nAnd then he grabbed her (and then)\\nHe tied her up (and then)\\nHe turned on the bandsaw (and then, and then...!)\\n\\n[Chorus:]\\nAnd then along came Jones\\nTall thin Jones\\nSlow-walkin\\' Jones\\nSlow-talkin\\' Jones\\nAlong came long, lean, lanky Jones\\n\\nCommercial came on, so I got up to get myself a snack\\nYou should\\'ve seen what was goin\\' on by the time that I got back\\nDown in the old abandoned mine, Sweet Sue was havin\\' fits\\nThat villain said, \"Give me the deed to your ranch\\nOr I\\'ll blow you all to bits!\"\\nAnd then he grabbed her (and then)\\nHe tied her up (and then)\\nHe lit the fuse to the dynamite (and then, and then...!)\\n\\n[Chorus]\\n\\nI got so bugged I turned it off and turned on another show\\nBut there was the same old shoot-\\'em-up and the same old rodeo\\nSalty Sam was tryin\\' to stuff Sweet Sue in a burlap sack\\nHe said, \"If you don\\'t give me the deed to your ranch\\nI\\'m gonna throw you on the railroad tracks!\"\\nAnd then he grabbed her (and then)\\nHe tied her up (and then)\\nHe threw her on the railroad tracks (and then)\\nA train started comin\\' (and then, and then...!)\\n\\n[Chorus]',\n",
       "  \"Back in black \\nI hit the sack \\nIt's been too long I'm glad to be back \\nYes, I'm let loose \\nFrom the noose \\nThat's kept me hanging around \\nI've been looking at the sky \\nand it's gettin' me high \\nForget the hearse 'cause I never die \\nI got nine lives \\nCats eyes \\nCruisin' every woman, never wonderin' why \\n\\n[Chorus:]\\n'Cause I'm back \\nYes, I'm back \\nWell, I'm back \\nYes, I'm back \\nWell, I'm back, back \\nWell I'm back in black \\nYes, I'm back in black \\n\\nBack in the back \\nOf a Cadillac \\nNumber one with a bullet, I'm a power pack \\nYes, I'm in a bang \\nWith a gang \\nThey've got to catch me if they want me to hang \\nCause I'm back on the track \\nAnd I'm beatin' the flack \\nNobody's gonna get me on another rap \\nSo look at me now \\nI'm just makin' my play \\nDon't try to push your luck, just get out of my way \\n\\n[Chorus]\\n\\nWell, I'm back, Yes I'm back \\nWell, I'm back, Yes I'm back \\nWell, I'm back, back \\nWell I'm back in black \\nYes I'm back in black \\n\\nhooo yeah \\nOhh yeah \\nYes I am \\nOooh yeah, yeah Oh yeah \\nBack in now \\nWell I'm back, I'm back \\nBack, I'm back \\nBack, I'm back \\nBack, I'm back \\nBack, I'm back \\nBack \\nBack in black \\nYes I'm back in black \\nOut of the sack\",\n",
       "  \"Woo, I gave you my money, I gave you my time.\\nWhy you wanna hurt me, girl?\\nAre you serious? I'm just curious.\\nWhy you wanna hurt me, girl?\\n\\nJust because you're not for real\\nWhy you wanna hurt me, girl?\\nJust because you're not for real,\\nWhy you wanna hurt me, girl?\\n\\nNever, ever had a lover who put the pedal to the mettle\\nAnd burn rubber on me, Charlie\\nOh, no\\n\\nYou took my money, you took my time\\nMade me think everything was fine\\nThen you upped and ran away\\nAnd made me just go crazy\\n\\nI never, ever had a lover\\nWho put the pedal to the metal\\nAnd burn rubber on me, Charlie\\nOh, no, no, no\\n\\nJust because you're not for real\\nWhy you wanna hurt me, girl\\nJust because you're not for real\\nWhy you wanna hurt me, girl\\n\\nI never, ever had a lover \\nWho put the pedal to the metal \\nAnd burn rubber on me, Charlie\\nOh, no, no, no\\n\\nJust because you're not for real\\nWhy you wanna hurt me, girl\\nJust because you're not for real\\nWhy you wanna hurt me, girl\\n\\nYou told me to go up the block\\nAnd get you a strawberry pop\\nWhen I got back to the flat\\nYou had burned rubber out the back\\n\\nI went to the closet and saw no clothes\\nAll I saw was hangers and poles\\nI went to the phone and called your mother\\nAnd told me you had burned rubber on me, Charlie\\nOH, no, no (x13)\\n\\nJust because you're not for real\\nWhy you wanna hurt me, girl\\nJust because you're not for real\\nWhy you wanna hurt me, girl\\n\\nI never, ever had a lover \\nWho put the pedal to the metal \\nAnd burned rubber on me, Charlie\\nOH, no, no, no, no, oh, no, yeah, yeah\\n\\nJust because you're not for real\\nWhy you wanna hurt, me girl\\nJust because you're not for real\\nWhy you wanna hurt me , girl\\n\\nJust because your not for real\\nWhy you wanna hurt me, girl\\n\\nYou took my money, you took my time\\nMade me think everything was fine\\nLike the clock on the wall, said ding-ding-dong\\nGot to find another lover that won't be gone\\n\\nShe won't put the pedal to the metal\\nAnd burn rubber, burn rubber, on me, Charlie\\nNO, no, no, no\\n\\nI never, ever had a lover\\nWho put the pedal to the metal \\nAnd burned rubber on me, Charlie\\nNO, no, no, no, no, no(repeat 8x)\",\n",
       "  \"Is it my imagination \\nOr have I finally found something worth living for? \\nI was looking for some action \\nBut all I found was cigarettes and alcohol \\n\\nYou could wait for a lifetime \\nTo spend your days in the sunshine \\nYou might as well do the white line \\n'Cause when it comes on top . . . \\n\\nYou gotta make it happen! \\nIs it worth the aggravation \\nTo find yourself a job when there's nothing worth working for? \\nIt's a crazy situation \\n\\nBut all I need are cigarettes and alcohol! \\nYou could wait for a lifetime \\nTo spend your days in the sunshine \\nYou might as well do the white line \\n\\n'Cause when it comes on top... \\nYou gotta make it happen!\",\n",
       "  '[Chorus: x2]\\nI\\'m goin down down baby, yo\\' street in a range rover (c\\'mon)\\nStreet sweeper baby, cocked ready to let it go (hot shit!)\\nShimmy shimmy cocoa what? Listen to it pound\\nLight it up and take a puff, pass it to me now\\n\\nYou can find me, in St. Louis rolling on dubs\\nSmoking on dubs in clubs, blowing up like cocoa puffs\\nSipping bud, getting perved and getting dubbed\\nDaps and hugs, mean mugs and shoulder shrugs\\nAnd it\\'s all because, accumulated enough stretch\\nJust to navigate it, wood decorated on chrome\\nAnd it\\'s candy painted, fans fainted, while I\\'m entertaining\\nWild ain\\'t it? How me and money end up hanging\\nI hang with Hannibal Lector (hot shit!) so feel me when I bring it\\nSing it loud (what?) I\\'m from the Lou\\' and I\\'m proud\\nRun a mile, for the cause, I\\'m righteous above the law\\nPlayer my style\\'s raw, I\\'m \"born to mack\" like Todd Shaw\\nForget the fame, and the glamor\\nGive me d\\'s with a rubber hammer\\nMy grammar be\\'s ebonics, gin tonic and chronic\\nFuck bionic it\\'s ironic, slamming niggas like onyx\\nLunatics til the day I die\\nI run more game than the bulls and sonics\\n\\n[Chorus]\\n\\nWho say pretty boys can\\'t be wild niggas?\\nLoud niggas, o.k. corral niggas\\nFoul niggas, run in the club and bust in the crowd nigga\\nHow nigga? ask me again and it\\'s going down nigga\\nNow nigga, come to the circus and watch me clown nigga\\nPound niggas, what you be giving when I\\'m around nigga\\nFrown niggas, talking shit when I leave the town nigga\\nSay now, can you hoes come out to play now\\nHey I\\'m, ready to cut you up any day now\\nPlay by, my rules boo and you gon\\' stay high\\nMay I, answer yo\\' third question like A.I.\\nSay hi, to my niggas left in the slamma\\nFrom St. Louis to Memphis\\nFrom Texas back up to Indiana, Chi-town\\nK.c. Motown to Alabama\\nL.A., New York Yankee niggas to Hotlanta\\nLouisiana, all my niggas wit \"country grammar\"\\nSmoking blunts in Savannah\\nBlow thirty mill\\' like I\\'m hammer\\n\\n[Chorus]\\n\\nLet\\'s show these cats to make these millions\\nSo you niggas quit acting silly, mon\\nKid quicker than Billy, mon\\nTalking really and I need it mon\\nFoes I kick em freely mon, especially off remi, mon\\nKeys to my beemer, mon, holla at Beenie Man\\nSee me, mon, cheifin\\' rolling deeper than any mon\\nThrough Jennings mon, through you-city back up to Kingsland\\nWit nice niggas, sheist niggas who snatch yo\\' life niggas\\nTrife niggas, who produce and sell the same beat twice, nigga\\n(hot shit!) Ice niggas, all over close to never sober\\nFrom broke to having dough, cause my price range is rover\\nNow I\\'m knocking like Jehovah, let me in now, let me in now\\nBill Gates, Donald Trump let me in now\\nSpin now, I got money to lend my friends now\\nWe in now, candy Benz, Kenwood and ten inches now\\nI win now (whoo!) fucking lesbian twins now\\nSeeing now, through the pen I make my ends now\\n\\n[Chorus]',\n",
       "  'It was christmas eve babe\\nIn the drunk tank\\nAn old man said to me, wont see another one\\nAnd then he sang a song\\nThe rare old mountain dew\\nI turned my face away\\nAnd dreamed about you\\n\\nGot on a lucky one\\nCame in eighteen to one\\nIve got a feeling\\nThis years for me and you\\nSo happy christmas\\nI love you baby\\nI can see a better time\\nWhen all our dreams come true\\n\\nTheyve got cars big as bars\\nTheyve got rivers of gold\\nBut the wind goes right through you\\nIts no place for the old\\nWhen you first took my hand\\nOn a cold christmas eve\\nYou promised me\\nBroadway was waiting for me\\n\\nYou were handsome\\nYou were pretty\\nQueen of new york city\\nWhen the band finished playing\\nThey howled out for more\\nSinatra was swinging,\\nAll the drunks they were singing\\nWe kissed on a corner\\nThen danced through the night\\n\\nThe boys of the nypd choir\\nWere singing galway bay\\nAnd the bells were ringing out\\nFor christmas day\\n\\nYoure a bum\\nYoure a punk\\nYoure an old slut on junk\\nLying there almost dead on a drip in that bed\\nYou scumbag, you maggot\\nYou cheap lousy faggot\\nHappy christmas your arse\\nI pray God its our last\\n\\nI could have been someone\\nWell so could anyone\\nYou took my dreams from me\\nWhen I first found you\\nI kept them with me babe\\nI put them with my own\\nCant make it all alone\\nIve built my dreams around you',\n",
       "  \"Twenty-five cents, hah, no, no\\nI wouldn't pay twenty-five cents to go in nowhere\\n'Cause listen here.....\\n\\nUp in Harlem ev'ry Saturday night\\nWhen the highbrows get together its just too tight\\nThey all congregates at an all night strut\\nAnd what they do is tut-tut-tut\\n\\nOld Hannah Brown from 'cross town\\nGets full of corn and starts breakin' 'em down\\nJust at the break of day\\nYou can hear old Hannah say\\n\\nGimme a pigfoot and a bottle of beer\\nSend me 'gain, I don't care\\nI feel just like I wanna clown\\nGive the piano player a drink\\nBecause he's bringin' me down!\\nHe's gotta rhythm, Y-e-e-a-a-h!\\nWhen he stomps his feet\\nHe sends me right off to sleep\\nCheck all your razors and your guns\\nWe gonna be 'rested when the wagon comes\\nI wanna pigfoot and a bottle of beer\\nSend me 'cause I don't care\\nPlay me 'cause I don't care\\n\\nGimme a pigfoot and a bottle of beer\\nSend me 'gain, I don't care\\nI feel just like I wanna clown\\nGive the piano player a drink\\nBecause he's bringin' me down\\nHe's got rhythm, Y-e-e-a-a-h!\\nWhen he stomps his feet\\nHe sends me right off to sleep\\nCheck all your razors and your guns\\nDo the shim-sham-shimmy 'til the risin' sun\\nGive me a reefer and a gang o' gin\\nPlay me 'cause I'm in my sin\\nPlay me 'cause I'm full of gin\",\n",
       "  \"What I've got you've got to give it to your mamma\\nWhat I've got you've got to give it to your pappa\\nWhat I've got you've got to give it to your daughter\\nYou do a little dance and then you drink a little water\\n\\nWhat I've got you've got to get it put it in you\\nWhat I've got you've got to get it put it in you\\nWhat I've got you've got to get it put it in you\\nReeling with the feeling don't stop continue\\n\\nRealize I don't want to be a miser\\nConfide w/sly you'll be the wiser\\nYoung blood is the lovin' upriser\\nHow come everybody want to keep it like the kaiser\\n\\n[Chorus]\\nGive it away give it away give it away give it away now \\nGive it away give it away give it away give it away now \\nGive it away give it away give it away give it away now \\n\\nI can't tell if I'm a kingpin or a pauper\\nGreedy little people in a sea of distress\\nKeep your more to receive your less\\nUnimpressed by material excess\\nLove is free love me say hell yes\\n\\nI'm a low brow but I rock a little know how\\nNo time for the piggies or the hoosegow\\nGet smart get down with the pow wow\\nNever been a better time than right now\\n\\nBob Marley poet and a prophet\\nBob Marley taught me how to off it\\nBob Marley walkin' like he talk it\\nGoodness me can't you see I'm gonna cough it\\n\\n[Chorus]\\n\\nLucky me swimmin' in my ability\\nDancin' down on life with agility\\nCome and drink it up from my fertility\\nBlessed with a bucket of lucky mobility\\n\\nMy mom I love her 'cause she love me\\nLong gone are the times when she scrub me\\nFeelin' good my brother gonna hug me\\nDrink my juice young love chug-a-lug me\\n\\nThere's a river born to be a giver\\nKeep you warm won't let you shiver\\nHis heart is never gonna wither\\nCome on everybody time to deliver\\n\\n[Chorus]\\n\\nWhat I've got you've got to give it to your mamma\\nWhat I've got you've got to give it to your pappa\\nWhat I've got you've got to give it to your daughter\\nYou do a little dance and then you drink a little water\",\n",
       "  \"I had a soul transplant operation \\nCoz my bypass didn't function \\nSo now I'm keeping on my toes \\n'Til I see your one man show \\n\\nShow me magic \\nShow me magic \\nShow me magic \\nShow me mad \\n\\nWouldn't it be nice to know \\nWhat the paper doesn't show \\nWhat the TV doesn't say \\nAnd what my hamster's ate today? \\n\\nShow me magic \\nShow me magic \\nShow me magic \\nShow me mad \\n\\nGod! Show me magic \\nGod! Show me magic \\nGod! Show me magic \\nGod! Show me mad \\n\\nShow me magic \\nShow me magic \\nShow me magic \\nShow me magic\"],\n",
       " ['negative',\n",
       "  'negative',\n",
       "  'negative',\n",
       "  'negative',\n",
       "  'negative',\n",
       "  'negative',\n",
       "  'negative',\n",
       "  'negative',\n",
       "  'negative',\n",
       "  'negative'],\n",
       " 764,\n",
       " 764)"
      ]
     },
     "execution_count": 22,
     "metadata": {},
     "output_type": "execute_result"
    }
   ],
   "source": [
    "lyric_files = [f for f in os.listdir(lyrics_folder) if f.lower().endswith(\".txt\")]\n",
    "\n",
    "texts = []\n",
    "labels = []\n",
    "\n",
    "for idx in range(1, 904):  # 001 to 903\n",
    "    filename = f\"{idx:03}.txt\"\n",
    "    filepath = os.path.join(lyrics_folder, filename)\n",
    "    if os.path.exists(filepath):\n",
    "        with open(filepath, \"r\", encoding=\"utf-8\") as f:\n",
    "            text = f.read().strip()\n",
    "            texts.append(text)\n",
    "            labels.append(all_labels[idx - 1])\n",
    "\n",
    "print(f\"Loaded {len(texts)} lyrics and {len(labels)} labels.\")\n",
    "\n",
    "texts[:10], labels[:10], len(texts), len(lyric_files)"
   ]
  },
  {
   "cell_type": "code",
   "execution_count": 23,
   "metadata": {},
   "outputs": [
    {
     "name": "stdout",
     "output_type": "stream",
     "text": [
      "negative (ID=0): 170 przykładów\n",
      "nostalgic (ID=1): 224 przykładów\n",
      "positive (ID=2): 370 przykładów\n"
     ]
    },
    {
     "data": {
      "text/plain": [
       "array(['negative', 'nostalgic', 'positive'], dtype='<U9')"
      ]
     },
     "execution_count": 23,
     "metadata": {},
     "output_type": "execute_result"
    }
   ],
   "source": [
    "label_encoder = LabelEncoder()\n",
    "label_ids = label_encoder.fit_transform(labels)\n",
    "\n",
    "label_classes = label_encoder.classes_\n",
    "\n",
    "for i, class_name in enumerate(label_classes):\n",
    "    count = np.sum(label_ids == i)\n",
    "    print(f\"{class_name} (ID={i}): {count} przykładów\")\n",
    "\n",
    "label_classes"
   ]
  },
  {
   "cell_type": "code",
   "execution_count": 24,
   "metadata": {},
   "outputs": [
    {
     "name": "stdout",
     "output_type": "stream",
     "text": [
      "Class weights: [1.49803922 1.13690476 0.68828829]\n"
     ]
    }
   ],
   "source": [
    "class_weights = compute_class_weight(\n",
    "    class_weight=\"balanced\", classes=np.unique(label_ids), y=label_ids\n",
    ")\n",
    "\n",
    "print(\"Class weights:\", class_weights)\n",
    "class_weights = torch.tensor(class_weights, dtype=torch.float)"
   ]
  },
  {
   "cell_type": "code",
   "execution_count": 25,
   "metadata": {},
   "outputs": [
    {
     "data": {
      "text/plain": [
       "(611, 76, 77, 611, 76, 77)"
      ]
     },
     "execution_count": 25,
     "metadata": {},
     "output_type": "execute_result"
    }
   ],
   "source": [
    "# First split: 80% train, 20% val+test\n",
    "texts_train, texts_val_test, labels_train, labels_val_test = train_test_split(\n",
    "    texts, label_ids, test_size=0.2, stratify=label_ids, random_state=42\n",
    ")\n",
    "\n",
    "# Then split val+test: 50/50 → 10% val, 10% test\n",
    "texts_val, texts_test, labels_val, labels_test = train_test_split(\n",
    "    texts_val_test,\n",
    "    labels_val_test,\n",
    "    test_size=0.5,\n",
    "    stratify=labels_val_test,\n",
    "    random_state=42,\n",
    ")\n",
    "\n",
    "(\n",
    "    len(texts_train),\n",
    "    len(texts_val),\n",
    "    len(texts_test),\n",
    "    len(labels_train),\n",
    "    len(labels_val),\n",
    "    len(labels_test),\n",
    ")"
   ]
  },
  {
   "cell_type": "code",
   "execution_count": null,
   "metadata": {},
   "outputs": [],
   "source": [
    "tokenizer = RobertaTokenizer.from_pretrained(\"roberta-base\")\n",
    "\n",
    "\n",
    "def tokenize_texts(texts):\n",
    "    return tokenizer(\n",
    "        texts, padding=True, truncation=True, max_length=512, return_tensors=\"pt\"\n",
    "    )\n",
    "\n",
    "\n",
    "tokenizer.padding_side = \"right\"\n",
    "tokenizer.pad_token = tokenizer.eos_token\n",
    "\n",
    "train_encodings = tokenize_texts(texts_train)\n",
    "val_encodings = tokenize_texts(texts_val)\n",
    "test_encodings = tokenize_texts(texts_test)"
   ]
  },
  {
   "cell_type": "code",
   "execution_count": null,
   "metadata": {},
   "outputs": [],
   "source": [
    "class LyricsDataset(Dataset):\n",
    "    def __init__(self, encodings, labels):\n",
    "        self.encodings = encodings\n",
    "        self.labels = labels\n",
    "\n",
    "    def __getitem__(self, idx):\n",
    "        item = {key: val[idx] for key, val in self.encodings.items()}\n",
    "        item[\"labels\"] = torch.tensor(self.labels[idx])\n",
    "        return item\n",
    "\n",
    "    def __len__(self):\n",
    "        return len(self.labels)\n",
    "\n",
    "\n",
    "train_dataset = LyricsDataset(train_encodings, labels_train)\n",
    "val_dataset = LyricsDataset(val_encodings, labels_val)\n",
    "test_dataset = LyricsDataset(test_encodings, labels_test)"
   ]
  },
  {
   "cell_type": "code",
   "execution_count": null,
   "metadata": {},
   "outputs": [],
   "source": [
    "class BertWithClassWeights(RobertaForSequenceClassification):\n",
    "    def compute_loss(self, model, inputs, return_outputs=False):\n",
    "        labels = inputs.get(\"labels\")\n",
    "        outputs = model(**inputs)\n",
    "        logits = outputs.get(\"logits\")\n",
    "        loss_fct = CrossEntropyLoss(weight=class_weights.to(model.device))\n",
    "        loss = loss_fct(logits, labels)\n",
    "        return (loss, outputs) if return_outputs else loss"
   ]
  },
  {
   "cell_type": "code",
   "execution_count": 29,
   "metadata": {},
   "outputs": [
    {
     "name": "stderr",
     "output_type": "stream",
     "text": [
      "Some weights of BertWithClassWeights were not initialized from the model checkpoint at roberta-base and are newly initialized: ['classifier.dense.bias', 'classifier.dense.weight', 'classifier.out_proj.bias', 'classifier.out_proj.weight']\n",
      "You should probably TRAIN this model on a down-stream task to be able to use it for predictions and inference.\n"
     ]
    }
   ],
   "source": [
    "model = BertWithClassWeights.from_pretrained(\n",
    "    \"roberta-base\", num_labels=len(label_classes)\n",
    ")\n",
    "\n",
    "model.config.pad_token_id = tokenizer.pad_token_id"
   ]
  },
  {
   "cell_type": "code",
   "execution_count": null,
   "metadata": {},
   "outputs": [
    {
     "name": "stderr",
     "output_type": "stream",
     "text": [
      "/Users/malgosielska/Studies/Sem 1 TAI/ML/Multimodal-classification/.venv/lib/python3.9/site-packages/torch/utils/data/dataloader.py:683: UserWarning: 'pin_memory' argument is set as true but not supported on MPS now, then device pinned memory won't be used.\n",
      "  warnings.warn(warn_msg)\n"
     ]
    },
    {
     "data": {
      "text/html": [
       "\n",
       "    <div>\n",
       "      \n",
       "      <progress value='924' max='1540' style='width:300px; height:20px; vertical-align: middle;'></progress>\n",
       "      [ 924/1540 1:31:33 < 1:01:10, 0.17 it/s, Epoch 12/20]\n",
       "    </div>\n",
       "    <table border=\"1\" class=\"dataframe\">\n",
       "  <thead>\n",
       " <tr style=\"text-align: left;\">\n",
       "      <th>Epoch</th>\n",
       "      <th>Training Loss</th>\n",
       "      <th>Validation Loss</th>\n",
       "      <th>Accuracy</th>\n",
       "      <th>F1</th>\n",
       "    </tr>\n",
       "  </thead>\n",
       "  <tbody>\n",
       "    <tr>\n",
       "      <td>1</td>\n",
       "      <td>1.037500</td>\n",
       "      <td>0.957449</td>\n",
       "      <td>0.578947</td>\n",
       "      <td>0.479617</td>\n",
       "    </tr>\n",
       "    <tr>\n",
       "      <td>2</td>\n",
       "      <td>0.932300</td>\n",
       "      <td>0.886044</td>\n",
       "      <td>0.578947</td>\n",
       "      <td>0.503120</td>\n",
       "    </tr>\n",
       "    <tr>\n",
       "      <td>3</td>\n",
       "      <td>0.759400</td>\n",
       "      <td>1.159605</td>\n",
       "      <td>0.513158</td>\n",
       "      <td>0.483188</td>\n",
       "    </tr>\n",
       "    <tr>\n",
       "      <td>4</td>\n",
       "      <td>0.499800</td>\n",
       "      <td>1.002357</td>\n",
       "      <td>0.592105</td>\n",
       "      <td>0.579971</td>\n",
       "    </tr>\n",
       "    <tr>\n",
       "      <td>5</td>\n",
       "      <td>0.408900</td>\n",
       "      <td>1.085163</td>\n",
       "      <td>0.605263</td>\n",
       "      <td>0.592893</td>\n",
       "    </tr>\n",
       "    <tr>\n",
       "      <td>6</td>\n",
       "      <td>0.372200</td>\n",
       "      <td>1.219799</td>\n",
       "      <td>0.592105</td>\n",
       "      <td>0.596933</td>\n",
       "    </tr>\n",
       "    <tr>\n",
       "      <td>7</td>\n",
       "      <td>0.217100</td>\n",
       "      <td>1.609902</td>\n",
       "      <td>0.513158</td>\n",
       "      <td>0.511134</td>\n",
       "    </tr>\n",
       "    <tr>\n",
       "      <td>8</td>\n",
       "      <td>0.118100</td>\n",
       "      <td>1.501824</td>\n",
       "      <td>0.605263</td>\n",
       "      <td>0.605574</td>\n",
       "    </tr>\n",
       "    <tr>\n",
       "      <td>9</td>\n",
       "      <td>0.248000</td>\n",
       "      <td>1.822173</td>\n",
       "      <td>0.618421</td>\n",
       "      <td>0.621996</td>\n",
       "    </tr>\n",
       "    <tr>\n",
       "      <td>10</td>\n",
       "      <td>0.115600</td>\n",
       "      <td>2.031599</td>\n",
       "      <td>0.618421</td>\n",
       "      <td>0.621935</td>\n",
       "    </tr>\n",
       "    <tr>\n",
       "      <td>11</td>\n",
       "      <td>0.192800</td>\n",
       "      <td>2.283974</td>\n",
       "      <td>0.605263</td>\n",
       "      <td>0.610634</td>\n",
       "    </tr>\n",
       "    <tr>\n",
       "      <td>12</td>\n",
       "      <td>0.072200</td>\n",
       "      <td>2.331562</td>\n",
       "      <td>0.605263</td>\n",
       "      <td>0.608857</td>\n",
       "    </tr>\n",
       "  </tbody>\n",
       "</table><p>"
      ],
      "text/plain": [
       "<IPython.core.display.HTML object>"
      ]
     },
     "metadata": {},
     "output_type": "display_data"
    },
    {
     "name": "stderr",
     "output_type": "stream",
     "text": [
      "/Users/malgosielska/Studies/Sem 1 TAI/ML/Multimodal-classification/.venv/lib/python3.9/site-packages/torch/utils/data/dataloader.py:683: UserWarning: 'pin_memory' argument is set as true but not supported on MPS now, then device pinned memory won't be used.\n",
      "  warnings.warn(warn_msg)\n",
      "/Users/malgosielska/Studies/Sem 1 TAI/ML/Multimodal-classification/.venv/lib/python3.9/site-packages/torch/utils/data/dataloader.py:683: UserWarning: 'pin_memory' argument is set as true but not supported on MPS now, then device pinned memory won't be used.\n",
      "  warnings.warn(warn_msg)\n",
      "/Users/malgosielska/Studies/Sem 1 TAI/ML/Multimodal-classification/.venv/lib/python3.9/site-packages/torch/utils/data/dataloader.py:683: UserWarning: 'pin_memory' argument is set as true but not supported on MPS now, then device pinned memory won't be used.\n",
      "  warnings.warn(warn_msg)\n",
      "/Users/malgosielska/Studies/Sem 1 TAI/ML/Multimodal-classification/.venv/lib/python3.9/site-packages/torch/utils/data/dataloader.py:683: UserWarning: 'pin_memory' argument is set as true but not supported on MPS now, then device pinned memory won't be used.\n",
      "  warnings.warn(warn_msg)\n",
      "/Users/malgosielska/Studies/Sem 1 TAI/ML/Multimodal-classification/.venv/lib/python3.9/site-packages/torch/utils/data/dataloader.py:683: UserWarning: 'pin_memory' argument is set as true but not supported on MPS now, then device pinned memory won't be used.\n",
      "  warnings.warn(warn_msg)\n",
      "/Users/malgosielska/Studies/Sem 1 TAI/ML/Multimodal-classification/.venv/lib/python3.9/site-packages/torch/utils/data/dataloader.py:683: UserWarning: 'pin_memory' argument is set as true but not supported on MPS now, then device pinned memory won't be used.\n",
      "  warnings.warn(warn_msg)\n",
      "/Users/malgosielska/Studies/Sem 1 TAI/ML/Multimodal-classification/.venv/lib/python3.9/site-packages/torch/utils/data/dataloader.py:683: UserWarning: 'pin_memory' argument is set as true but not supported on MPS now, then device pinned memory won't be used.\n",
      "  warnings.warn(warn_msg)\n",
      "/Users/malgosielska/Studies/Sem 1 TAI/ML/Multimodal-classification/.venv/lib/python3.9/site-packages/torch/utils/data/dataloader.py:683: UserWarning: 'pin_memory' argument is set as true but not supported on MPS now, then device pinned memory won't be used.\n",
      "  warnings.warn(warn_msg)\n",
      "/Users/malgosielska/Studies/Sem 1 TAI/ML/Multimodal-classification/.venv/lib/python3.9/site-packages/torch/utils/data/dataloader.py:683: UserWarning: 'pin_memory' argument is set as true but not supported on MPS now, then device pinned memory won't be used.\n",
      "  warnings.warn(warn_msg)\n",
      "/Users/malgosielska/Studies/Sem 1 TAI/ML/Multimodal-classification/.venv/lib/python3.9/site-packages/torch/utils/data/dataloader.py:683: UserWarning: 'pin_memory' argument is set as true but not supported on MPS now, then device pinned memory won't be used.\n",
      "  warnings.warn(warn_msg)\n",
      "/Users/malgosielska/Studies/Sem 1 TAI/ML/Multimodal-classification/.venv/lib/python3.9/site-packages/torch/utils/data/dataloader.py:683: UserWarning: 'pin_memory' argument is set as true but not supported on MPS now, then device pinned memory won't be used.\n",
      "  warnings.warn(warn_msg)\n"
     ]
    },
    {
     "data": {
      "text/plain": [
       "TrainOutput(global_step=924, training_loss=0.4292797227450586, metrics={'train_runtime': 5494.6296, 'train_samples_per_second': 2.224, 'train_steps_per_second': 0.28, 'total_flos': 1929147578781696.0, 'train_loss': 0.4292797227450586, 'epoch': 12.0})"
      ]
     },
     "execution_count": 30,
     "metadata": {},
     "output_type": "execute_result"
    }
   ],
   "source": [
    "training_args = TrainingArguments(\n",
    "    output_dir=\"./results\",\n",
    "    learning_rate=1e-5,\n",
    "    per_device_train_batch_size=8,\n",
    "    per_device_eval_batch_size=8,\n",
    "    num_train_epochs=20,\n",
    "    weight_decay=0.01,\n",
    "    eval_strategy=\"epoch\",\n",
    "    save_strategy=\"epoch\",\n",
    "    logging_dir=\"./logs\",\n",
    "    logging_steps=10,\n",
    "    load_best_model_at_end=True,\n",
    "    metric_for_best_model=\"f1\",\n",
    "    greater_is_better=True,\n",
    ")\n",
    "\n",
    "\n",
    "def compute_metrics(eval_pred):\n",
    "    logits, labels = eval_pred\n",
    "    preds = logits.argmax(axis=1)\n",
    "    return {\n",
    "        \"accuracy\": accuracy_score(labels, preds),\n",
    "        \"f1\": f1_score(labels, preds, average=\"weighted\"),\n",
    "    }\n",
    "\n",
    "\n",
    "trainer = Trainer(\n",
    "    model=model,\n",
    "    args=training_args,\n",
    "    train_dataset=train_dataset,\n",
    "    eval_dataset=val_dataset,\n",
    "    compute_metrics=compute_metrics,\n",
    "    callbacks=[EarlyStoppingCallback(early_stopping_patience=3)],\n",
    ")\n",
    "\n",
    "trainer.train()"
   ]
  },
  {
   "cell_type": "code",
   "execution_count": 31,
   "metadata": {},
   "outputs": [
    {
     "name": "stderr",
     "output_type": "stream",
     "text": [
      "/Users/malgosielska/Studies/Sem 1 TAI/ML/Multimodal-classification/.venv/lib/python3.9/site-packages/torch/utils/data/dataloader.py:683: UserWarning: 'pin_memory' argument is set as true but not supported on MPS now, then device pinned memory won't be used.\n",
      "  warnings.warn(warn_msg)\n"
     ]
    },
    {
     "data": {
      "text/html": [],
      "text/plain": [
       "<IPython.core.display.HTML object>"
      ]
     },
     "metadata": {},
     "output_type": "display_data"
    },
    {
     "name": "stdout",
     "output_type": "stream",
     "text": [
      "Test Results: {'eval_loss': 0.9962362051010132, 'eval_accuracy': 0.7142857142857143, 'eval_f1': 0.7148794063079777, 'eval_runtime': 3.6762, 'eval_samples_per_second': 20.946, 'eval_steps_per_second': 2.72, 'epoch': 12.0}\n"
     ]
    }
   ],
   "source": [
    "results = trainer.evaluate(test_dataset)\n",
    "print(\"Test Results:\", results)"
   ]
  },
  {
   "cell_type": "code",
   "execution_count": null,
   "metadata": {},
   "outputs": [
    {
     "name": "stderr",
     "output_type": "stream",
     "text": [
      "/Users/malgosielska/Studies/Sem 1 TAI/ML/Multimodal-classification/.venv/lib/python3.9/site-packages/torch/utils/data/dataloader.py:683: UserWarning: 'pin_memory' argument is set as true but not supported on MPS now, then device pinned memory won't be used.\n",
      "  warnings.warn(warn_msg)\n"
     ]
    },
    {
     "data": {
      "image/png": "[encoded data removed]",
      "text/plain": [
       "<Figure size 640x480 with 2 Axes>"
      ]
     },
     "metadata": {},
     "output_type": "display_data"
    },
    {
     "name": "stdout",
     "output_type": "stream",
     "text": [
      "              precision    recall  f1-score   support\n",
      "\n",
      "    negative       0.65      0.65      0.65        17\n",
      "   nostalgic       0.67      0.78      0.72        23\n",
      "    positive       0.79      0.70      0.74        37\n",
      "\n",
      "    accuracy                           0.71        77\n",
      "   macro avg       0.70      0.71      0.70        77\n",
      "weighted avg       0.72      0.71      0.71        77\n",
      "\n"
     ]
    }
   ],
   "source": [
    "preds = trainer.predict(test_dataset)\n",
    "y_true = preds.label_ids\n",
    "y_pred = preds.predictions.argmax(-1)\n",
    "\n",
    "cm = confusion_matrix(y_true, y_pred)\n",
    "disp = ConfusionMatrixDisplay(\n",
    "    confusion_matrix=cm, display_labels=label_encoder.classes_\n",
    ")\n",
    "disp.plot(cmap=\"Blues\", xticks_rotation=45)\n",
    "plt.show()\n",
    "\n",
    "print(classification_report(y_true, y_pred, target_names=label_encoder.classes_))"
   ]
  },
  {
   "cell_type": "code",
   "execution_count": null,
   "metadata": {},
   "outputs": [
    {
     "data": {
      "text/plain": [
       "('bert-emotion-classifier-3-classes-v3/tokenizer_config.json',\n",
       " 'bert-emotion-classifier-3-classes-v3/special_tokens_map.json',\n",
       " 'bert-emotion-classifier-3-classes-v3/vocab.json',\n",
       " 'bert-emotion-classifier-3-classes-v3/merges.txt',\n",
       " 'bert-emotion-classifier-3-classes-v3/added_tokens.json')"
      ]
     },
     "execution_count": 33,
     "metadata": {},
     "output_type": "execute_result"
    }
   ],
   "source": [
    "MODEL_NAME = \"bert-emotion-classifier-3-classes-v3\"\n",
    "\n",
    "model.save_pretrained(MODEL_NAME)\n",
    "tokenizer.save_pretrained(MODEL_NAME)"
   ]
  },
  {
   "cell_type": "markdown",
   "metadata": {},
   "source": [
    "## Saving model to HuggingFace"
   ]
  },
  {
   "cell_type": "code",
   "execution_count": 37,
   "metadata": {},
   "outputs": [
    {
     "name": "stderr",
     "output_type": "stream",
     "text": [
      "No files have been modified since last commit. Skipping to prevent empty commit.\n"
     ]
    },
    {
     "name": "stdout",
     "output_type": "stream",
     "text": [
      "✅ Model wysłany na Hugging Face: https://huggingface.co/malgosielska/bert-emotion-classifier-3-classes\n"
     ]
    }
   ],
   "source": [
    "from huggingface_hub import login, create_repo, upload_folder\n",
    "\n",
    "# login()  # Wklej swój token z https://huggingface.co/settings/tokens\n",
    "\n",
    "HF_USERNAME = \"malgosielska\"\n",
    "MODEL_ID = \"bert-emotion-classifier-3-classes\"\n",
    "\n",
    "LOCAL_MODEL_DIR = \"bert-emotion-classifier-3-classes\"\n",
    "REMOTE_REPO_ID = f\"{HF_USERNAME}/{MODEL_ID}\"\n",
    "\n",
    "create_repo(repo_id=REMOTE_REPO_ID, exist_ok=True)\n",
    "\n",
    "upload_folder(\n",
    "    repo_id=REMOTE_REPO_ID,\n",
    "    folder_path=LOCAL_MODEL_DIR,\n",
    "    path_in_repo=\".\",\n",
    ")\n",
    "\n",
    "print(f\"✅ Model wysłany na Hugging Face: https://huggingface.co/{REMOTE_REPO_ID}\")"
   ]
  },
  {
   "cell_type": "markdown",
   "metadata": {},
   "source": [
    "## Model analysis"
   ]
  },
  {
   "cell_type": "markdown",
   "metadata": {},
   "source": [
    "### Using model from HuggingFace"
   ]
  },
  {
   "cell_type": "code",
   "execution_count": 38,
   "metadata": {},
   "outputs": [
    {
     "data": {
      "application/vnd.jupyter.widget-view+json": {
       "model_id": "8048fa34572d40d5872b85c40bf5f3d1",
       "version_major": 2,
       "version_minor": 0
      },
      "text/plain": [
       "model.safetensors:   0%|          | 0.00/499M [00:00<?, ?B/s]"
      ]
     },
     "metadata": {},
     "output_type": "display_data"
    },
    {
     "data": {
      "text/plain": [
       "RobertaForSequenceClassification(\n",
       "  (roberta): RobertaModel(\n",
       "    (embeddings): RobertaEmbeddings(\n",
       "      (word_embeddings): Embedding(50265, 768, padding_idx=2)\n",
       "      (position_embeddings): Embedding(514, 768, padding_idx=2)\n",
       "      (token_type_embeddings): Embedding(1, 768)\n",
       "      (LayerNorm): LayerNorm((768,), eps=1e-05, elementwise_affine=True)\n",
       "      (dropout): Dropout(p=0.1, inplace=False)\n",
       "    )\n",
       "    (encoder): RobertaEncoder(\n",
       "      (layer): ModuleList(\n",
       "        (0-11): 12 x RobertaLayer(\n",
       "          (attention): RobertaAttention(\n",
       "            (self): RobertaSdpaSelfAttention(\n",
       "              (query): Linear(in_features=768, out_features=768, bias=True)\n",
       "              (key): Linear(in_features=768, out_features=768, bias=True)\n",
       "              (value): Linear(in_features=768, out_features=768, bias=True)\n",
       "              (dropout): Dropout(p=0.1, inplace=False)\n",
       "            )\n",
       "            (output): RobertaSelfOutput(\n",
       "              (dense): Linear(in_features=768, out_features=768, bias=True)\n",
       "              (LayerNorm): LayerNorm((768,), eps=1e-05, elementwise_affine=True)\n",
       "              (dropout): Dropout(p=0.1, inplace=False)\n",
       "            )\n",
       "          )\n",
       "          (intermediate): RobertaIntermediate(\n",
       "            (dense): Linear(in_features=768, out_features=3072, bias=True)\n",
       "            (intermediate_act_fn): GELUActivation()\n",
       "          )\n",
       "          (output): RobertaOutput(\n",
       "            (dense): Linear(in_features=3072, out_features=768, bias=True)\n",
       "            (LayerNorm): LayerNorm((768,), eps=1e-05, elementwise_affine=True)\n",
       "            (dropout): Dropout(p=0.1, inplace=False)\n",
       "          )\n",
       "        )\n",
       "      )\n",
       "    )\n",
       "  )\n",
       "  (classifier): RobertaClassificationHead(\n",
       "    (dense): Linear(in_features=768, out_features=768, bias=True)\n",
       "    (dropout): Dropout(p=0.1, inplace=False)\n",
       "    (out_proj): Linear(in_features=768, out_features=3, bias=True)\n",
       "  )\n",
       ")"
      ]
     },
     "execution_count": 38,
     "metadata": {},
     "output_type": "execute_result"
    }
   ],
   "source": [
    "from transformers import RobertaTokenizer, RobertaForSequenceClassification\n",
    "\n",
    "HF_MODEL_PATH = \"malgosielska/bert-emotion-classifier-3-classes\"\n",
    "\n",
    "tokenizer = RobertaTokenizer.from_pretrained(HF_MODEL_PATH)\n",
    "model = RobertaForSequenceClassification.from_pretrained(HF_MODEL_PATH)\n",
    "model.eval()"
   ]
  },
  {
   "cell_type": "code",
   "execution_count": 39,
   "metadata": {},
   "outputs": [
    {
     "name": "stderr",
     "output_type": "stream",
     "text": [
      "/Users/malgosielska/Studies/Sem 1 TAI/ML/Multimodal-classification/.venv/lib/python3.9/site-packages/torch/utils/data/dataloader.py:683: UserWarning: 'pin_memory' argument is set as true but not supported on MPS now, then device pinned memory won't be used.\n",
      "  warnings.warn(warn_msg)\n"
     ]
    },
    {
     "data": {
      "text/html": [],
      "text/plain": [
       "<IPython.core.display.HTML object>"
      ]
     },
     "metadata": {},
     "output_type": "display_data"
    },
    {
     "name": "stdout",
     "output_type": "stream",
     "text": [
      "Test results: {'eval_loss': 0.7728451490402222, 'eval_model_preparation_time': 0.0008, 'eval_accuracy': 0.6883116883116883, 'eval_f1': 0.6878817642759584, 'eval_runtime': 3.6689, 'eval_samples_per_second': 20.987, 'eval_steps_per_second': 2.726}\n"
     ]
    }
   ],
   "source": [
    "trainer = Trainer(model=model, compute_metrics=compute_metrics)\n",
    "results = trainer.evaluate(test_dataset)\n",
    "print(\"Test results:\", results)"
   ]
  },
  {
   "cell_type": "code",
   "execution_count": 40,
   "metadata": {},
   "outputs": [
    {
     "name": "stderr",
     "output_type": "stream",
     "text": [
      "/Users/malgosielska/Studies/Sem 1 TAI/ML/Multimodal-classification/.venv/lib/python3.9/site-packages/torch/utils/data/dataloader.py:683: UserWarning: 'pin_memory' argument is set as true but not supported on MPS now, then device pinned memory won't be used.\n",
      "  warnings.warn(warn_msg)\n"
     ]
    },
    {
     "data": {
      "image/png": "[encoded data removed]",
      "text/plain": [
       "<Figure size 640x480 with 2 Axes>"
      ]
     },
     "metadata": {},
     "output_type": "display_data"
    },
    {
     "name": "stdout",
     "output_type": "stream",
     "text": [
      "              precision    recall  f1-score   support\n",
      "\n",
      "    negative       0.62      0.59      0.61        17\n",
      "   nostalgic       0.64      0.78      0.71        23\n",
      "    positive       0.76      0.68      0.71        37\n",
      "\n",
      "    accuracy                           0.69        77\n",
      "   macro avg       0.68      0.68      0.68        77\n",
      "weighted avg       0.69      0.69      0.69        77\n",
      "\n"
     ]
    }
   ],
   "source": [
    "preds = trainer.predict(test_dataset)\n",
    "y_true = preds.label_ids\n",
    "y_pred = preds.predictions.argmax(-1)\n",
    "\n",
    "cm = confusion_matrix(y_true, y_pred)\n",
    "disp = ConfusionMatrixDisplay(\n",
    "    confusion_matrix=cm, display_labels=label_encoder.classes_\n",
    ")\n",
    "disp.plot(cmap=\"Blues\", xticks_rotation=45)\n",
    "plt.show()\n",
    "\n",
    "print(classification_report(y_true, y_pred, target_names=label_encoder.classes_))"
   ]
  }
 ],
 "metadata": {
  "kernelspec": {
   "display_name": ".venv",
   "language": "python",
   "name": "python3"
  },
  "language_info": {
   "codemirror_mode": {
    "name": "ipython",
    "version": 3
   },
   "file_extension": ".py",
   "mimetype": "text/x-python",
   "name": "python",
   "nbconvert_exporter": "python",
   "pygments_lexer": "ipython3",
   "version": "3.9.21"
  }
 },
 "nbformat": 4,
 "nbformat_minor": 2
}
